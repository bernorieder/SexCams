{
 "cells": [
  {
   "cell_type": "code",
   "execution_count": 20,
   "metadata": {},
   "outputs": [
    {
     "name": "stdout",
     "output_type": "stream",
     "text": [
      "0\n",
      "hi\n",
      "1\n",
      "hi\n",
      "2\n",
      "hi\n",
      "3\n",
      "hi\n",
      "4\n",
      "hi\n",
      "5\n",
      "hi\n",
      "6\n"
     ]
    }
   ],
   "source": [
    "import glob\n",
    "import pandas as pd\n",
    "\n",
    "path = 'homepage_csvs/test/'\n",
    "#path = 'homepage_csvs/chaturbate/'\n",
    "\n",
    "csv_files = glob.glob(path + '*.csv')\n",
    "\n",
    "counter = 0\n",
    "sessions = []\n",
    "last_df = None\n",
    "\n",
    "for filename in sorted(csv_files):\n",
    "    \n",
    "    df = pd.read_csv(filename)\n",
    "    #print(df)\n",
    "    \n",
    "    if counter > 0:\n",
    "        print('hi')\n",
    "        \n",
    "    last_df = df\n",
    "\n",
    "    print(counter)\n",
    "    counter += 1\n",
    "\n",
    "\n",
    "#df = [pd.read_csv(filename) for filename in csv_files]\n",
    "#df\n"
   ]
  }
 ],
 "metadata": {
  "interpreter": {
   "hash": "b0fa6594d8f4cbf19f97940f81e996739fb7646882a419484c72d19e05852a7e"
  },
  "kernelspec": {
   "display_name": "Python 3.9.10 64-bit",
   "language": "python",
   "name": "python3"
  },
  "language_info": {
   "codemirror_mode": {
    "name": "ipython",
    "version": 3
   },
   "file_extension": ".py",
   "mimetype": "text/x-python",
   "name": "python",
   "nbconvert_exporter": "python",
   "pygments_lexer": "ipython3",
   "version": "3.9.10"
  },
  "orig_nbformat": 4
 },
 "nbformat": 4,
 "nbformat_minor": 2
}
