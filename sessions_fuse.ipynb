{
 "cells": [
  {
   "cell_type": "code",
   "execution_count": null,
   "metadata": {},
   "outputs": [],
   "source": [
    "#  total duration every week, SD duration, SD position, SD viewers, total viewers, max position, min position, \n",
    "\n",
    "import pandas as pd\n",
    "from datetime import datetime\n",
    "\n",
    "platform = 'streamate'\n",
    "\n",
    "# is room_count on myfreecams viewers? where did the bongacams viewers go?\n",
    "var_viewers = {'bongacams':False,'chaturbate':True,'ebonycams':False,'livejasmin':False,'myfreecams':True,'streamate':False}\n",
    "\n",
    "sfile = 'sessions_' + platform + '.csv'\n",
    "pfile = 'performerlist/performerlist_' + platform + '.csv'"
   ]
  },
  {
   "cell_type": "code",
   "execution_count": null,
   "metadata": {},
   "outputs": [],
   "source": [
    "sdf = pd.read_csv(sfile)\n",
    "\n",
    "sdf"
   ]
  },
  {
   "cell_type": "code",
   "execution_count": null,
   "metadata": {},
   "outputs": [],
   "source": [
    "# generating new columns based on the sessions file\n",
    "if(var_viewers[platform]):\n",
    "    nsdf = sdf.groupby('name')['duration','average_viewers','average_position'].agg({'duration':['count','sum','mean','std'],'average_viewers':['sum','mean','std','min','max'],'average_position':['mean','std','min','max']})\n",
    "else:\n",
    "    nsdf = sdf.groupby('name')['duration','average_position'].agg({'duration':['count','sum','mean','std'],'average_position':['mean','std','min','max']})\n",
    "\n",
    "# flattening and renaming columns\n",
    "nsdf = pd.DataFrame(nsdf.to_records())\n",
    "nsdf.rename(columns = {\"('duration', 'count')\":'count_sessions',\"('duration', 'sum')\":'sum_duration',\"('duration', 'mean')\":'mean_duration',\"('duration', 'std')\":'std_duration',\n",
    "                       \"('average_position', 'mean')\":'mean_position',\"('average_position', 'std')\":'std_position',\"('average_position', 'min')\":'min_position',\"('average_position', 'max')\":'max_position'}, inplace = True)\n",
    "if(var_viewers[platform]):\n",
    "    nsdf.rename(columns = {\"('average_viewers', 'sum')\":'sum_viewers',\"('average_viewers', 'mean')\":'mean_viewers',\"('average_viewers', 'std')\":'std_viewers',\"('average_viewers', 'min')\":'min_viewers',\"('average_viewers', 'max')\":'max_viewers'}, inplace = True)\n",
    "    \n",
    "    \n",
    "\n",
    "nsdf.to_csv('sessions_stats_' + platform + '.csv',index=False)\n",
    "\n",
    "nsdf"
   ]
  },
  {
   "cell_type": "code",
   "execution_count": null,
   "metadata": {},
   "outputs": [],
   "source": [
    "pdf = pd.read_csv(pfile)\n",
    "\n",
    "pdf"
   ]
  },
  {
   "cell_type": "code",
   "execution_count": null,
   "metadata": {},
   "outputs": [],
   "source": [
    "#pdf.set_index('name').join(nsdf.set_index('name')).to_csv('performerlist_fused.csv',index=False)\n",
    "pdf.join(nsdf.set_index('name'), on='name').to_csv('performerlist_fused_' + platform + '.csv',index=False)"
   ]
  }
 ],
 "metadata": {
  "kernelspec": {
   "display_name": "Python 3.9.15 64-bit",
   "language": "python",
   "name": "python3"
  },
  "language_info": {
   "codemirror_mode": {
    "name": "ipython",
    "version": 3
   },
   "file_extension": ".py",
   "mimetype": "text/x-python",
   "name": "python",
   "nbconvert_exporter": "python",
   "pygments_lexer": "ipython3",
   "version": "3.9.15"
  },
  "orig_nbformat": 4,
  "vscode": {
   "interpreter": {
    "hash": "a665b5d41d17b532ea9890333293a1b812fa0b73c9c25c950b3cedf1bebd0438"
   }
  }
 },
 "nbformat": 4,
 "nbformat_minor": 2
}
