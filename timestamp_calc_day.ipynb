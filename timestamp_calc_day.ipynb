{
 "cells": [
  {
   "cell_type": "markdown",
   "metadata": {},
   "source": [
    "## Metrics per day\n",
    "- this is code for reading multiple frontpage files and calculating metrics per timestamp (here-daily)\n",
    "- code is based on the example from \"basic_file_read\" by Bernhard"
   ]
  },
  {
   "cell_type": "code",
   "execution_count": 1,
   "metadata": {},
   "outputs": [],
   "source": [
    "\n",
    "import glob\n",
    "import pandas as pd\n",
    "\n",
    "#below choose which directory to work with (all files or test files)\n",
    "path = 'homepage_csvs/test/'\n",
    "path = 'homepage_csvs/chaturbate/'"
   ]
  },
  {
   "cell_type": "code",
   "execution_count": null,
   "metadata": {},
   "outputs": [],
   "source": [
    "# get all filenames from the directory\n",
    "csv_files = glob.glob(path + '*.csv')\n",
    "counter = 0\n",
    "daily_counts = {}\n",
    "\n",
    "# iterate over all files to create an array of lists with all performer counts for each day\n",
    "for filename in sorted(csv_files):\n",
    "    \n",
    "    # extract date from filename\n",
    "    fileparts = filename.split('_')\n",
    "    date = fileparts[2]\n",
    "\n",
    "    if date not in daily_counts:\n",
    "       daily_counts[date] = []\n",
    "    \n",
    "    # read CSV file and count rows\n",
    "    df = pd.read_csv(filename)\n",
    "    perf_count = len(df)\n",
    "\n",
    "    daily_counts[date].append(perf_count)\n",
    "\n",
    "    print(str(counter) + ' ' + date)\n",
    "    counter += 1\n",
    "\n",
    "#print(daily_counts)"
   ]
  },
  {
   "cell_type": "code",
   "execution_count": null,
   "metadata": {},
   "outputs": [],
   "source": [
    "daily_avgs = []\n",
    "\n",
    "# next step is to iterate over array to calculate daily averages\n",
    "for date in daily_counts:\n",
    "    \n",
    "    daily_avg = 0\n",
    "    for x in daily_counts[date]:\n",
    "        daily_avg += x\n",
    "    \n",
    "    daily_avg = daily_avg / len(daily_counts[date])\n",
    "    \n",
    "    daily_avgs.append({'date':date,'avg':round(daily_avg)})\n",
    "\n",
    "df = pd.DataFrame.from_dict(daily_avgs)\n",
    "df.to_csv('daily_averages.csv',index=False)"
   ]
  }
 ],
 "metadata": {
  "interpreter": {
   "hash": "aee8b7b246df8f9039afb4144a1f6fd8d2ca17a180786b69acc140d282b71a49"
  },
  "kernelspec": {
   "display_name": "Python 3.9.0 64-bit",
   "language": "python",
   "name": "python3"
  },
  "language_info": {
   "codemirror_mode": {
    "name": "ipython",
    "version": 3
   },
   "file_extension": ".py",
   "mimetype": "text/x-python",
   "name": "python",
   "nbconvert_exporter": "python",
   "pygments_lexer": "ipython3",
   "version": "3.9.0"
  },
  "orig_nbformat": 4
 },
 "nbformat": 4,
 "nbformat_minor": 2
}
